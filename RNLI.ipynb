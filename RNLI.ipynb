{
 "cells": [
  {
   "cell_type": "code",
   "execution_count": 137,
   "metadata": {},
   "outputs": [],
   "source": [
    "import datatable as dt \n",
    "import pandas as pd "
   ]
  },
  {
   "cell_type": "code",
   "execution_count": 138,
   "metadata": {},
   "outputs": [],
   "source": [
    "dataT=dt.fread(\"C:\\\\Users\\\\Dave\\\\Downloads\\\\RNLI_Returns_of_Service.csv\")"
   ]
  },
  {
   "cell_type": "code",
   "execution_count": 139,
   "metadata": {},
   "outputs": [
    {
     "data": {
      "text/html": [
       "<div class='datatable'>\n",
       "  <table class='frame'>\n",
       "  <thead>\n",
       "    <tr class='colnames'><td class='row_index'></td><th>X</th><th>Y</th><th>OBJECTID</th><th>AIC</th><th>LifeboatStationNameProper</th><th>LaunchTime</th><th>YearOfCall</th><th>LifeboatClass</th><th>LifeboatNumber</th><th>RoSType</th><th class='vellipsis'>&hellip;</th><th>GlobalID</th><th>CreationDate</th><th>Creator</th><th>EditDate</th><th>Editor</th></tr>\n",
       "    <tr class='coltypes'><td class='row_index'></td><td class='float' title='float64'>&#x25AA;&#x25AA;&#x25AA;&#x25AA;&#x25AA;&#x25AA;&#x25AA;&#x25AA;</td><td class='float' title='float64'>&#x25AA;&#x25AA;&#x25AA;&#x25AA;&#x25AA;&#x25AA;&#x25AA;&#x25AA;</td><td class='int' title='int32'>&#x25AA;&#x25AA;&#x25AA;&#x25AA;</td><td class='str' title='str32'>&#x25AA;&#x25AA;&#x25AA;&#x25AA;</td><td class='str' title='str32'>&#x25AA;&#x25AA;&#x25AA;&#x25AA;</td><td class='str' title='str32'>&#x25AA;&#x25AA;&#x25AA;&#x25AA;</td><td class='int' title='int32'>&#x25AA;&#x25AA;&#x25AA;&#x25AA;</td><td class='str' title='str32'>&#x25AA;&#x25AA;&#x25AA;&#x25AA;</td><td class='str' title='str32'>&#x25AA;&#x25AA;&#x25AA;&#x25AA;</td><td class='str' title='str32'>&#x25AA;&#x25AA;&#x25AA;&#x25AA;</td><td></td><td class='str' title='str32'>&#x25AA;&#x25AA;&#x25AA;&#x25AA;</td><td class='str' title='str32'>&#x25AA;&#x25AA;&#x25AA;&#x25AA;</td><td class='str' title='str32'>&#x25AA;&#x25AA;&#x25AA;&#x25AA;</td><td class='str' title='str32'>&#x25AA;&#x25AA;&#x25AA;&#x25AA;</td><td class='str' title='str32'>&#x25AA;&#x25AA;&#x25AA;&#x25AA;</td></tr>\n",
       "  </thead>\n",
       "  <tbody>\n",
       "    <tr><td class='row_index'>0</td><td>&minus;1.0971</td><td>50.6942</td><td>1</td><td>Motorboating - Other reason</td><td>BEMBRIDGE</td><td>07:22:00</td><td>2016</td><td>D CLASS</td><td>D-778</td><td>ILB</td><td class=vellipsis>&hellip;</td><td>{0264C39F-AB7A-4EE7-8380-218B53440C4B}</td><td>2020/06/12 15:41:02+00</td><td>RNLIORU</td><td>2020/06/12 15:41:02+00</td><td>RNLIORU</td></tr>\n",
       "    <tr><td class='row_index'>1</td><td>&minus;4.1311</td><td>51.213</td><td>2</td><td>Hoax and false alarm</td><td>ILFRACOMBE</td><td>12:28:00</td><td>2016</td><td>D CLASS</td><td>D-717</td><td>ILB</td><td class=vellipsis>&hellip;</td><td>{9A5260B4-E1F0-4C47-BCA4-218A8310451D}</td><td>2020/06/12 15:41:02+00</td><td>RNLIORU</td><td>2020/06/12 15:41:02+00</td><td>RNLIORU</td></tr>\n",
       "    <tr><td class='row_index'>2</td><td>0.8384</td><td>50.8631</td><td>3</td><td>Commercial fishing - Other reasons</td><td>DUNGENESS</td><td>14:10:00</td><td>2016</td><td>SHANNON</td><td>ON1311</td><td>ALB</td><td class=vellipsis>&hellip;</td><td>{9AC98A8D-6DAA-4EDB-B733-B1BEF7EAD3B0}</td><td>2020/06/12 15:41:02+00</td><td>RNLIORU</td><td>2020/06/12 15:41:02+00</td><td>RNLIORU</td></tr>\n",
       "    <tr><td class='row_index'>3</td><td>&minus;4.1311</td><td>51.213</td><td>4</td><td>Hoax and false alarm</td><td>ILFRACOMBE</td><td>13:40:00</td><td>2016</td><td>SHANNON</td><td>ON1316</td><td>ALB</td><td class=vellipsis>&hellip;</td><td>{08285611-2E74-426C-A607-48335B62155C}</td><td>2020/06/12 15:41:02+00</td><td>RNLIORU</td><td>2020/06/12 15:41:02+00</td><td>RNLIORU</td></tr>\n",
       "    <tr><td class='row_index'>4</td><td>&minus;0.1061</td><td>51.5099</td><td>5</td><td>Waterside activity - On shore</td><td>TOWER</td><td>00:41:00</td><td>2016</td><td>E CLASS MK2</td><td>E-09</td><td>ILB</td><td class=vellipsis>&hellip;</td><td>{2ED08289-5568-4C95-BE2F-134E8BE90DA8}</td><td>2020/06/12 15:41:02+00</td><td>RNLIORU</td><td>2020/06/12 15:41:02+00</td><td>RNLIORU</td></tr>\n",
       "    <tr><td class='row_index'>5</td><td>&minus;0.1034</td><td>51.5097</td><td>6</td><td>Other marine vessels - Other reason</td><td>TOWER</td><td>01:22:00</td><td>2016</td><td>E CLASS MK2</td><td>E-09</td><td>ILB</td><td class=vellipsis>&hellip;</td><td>{C9C86F3B-8E62-4922-B568-4E238CEDBD83}</td><td>2020/06/12 15:41:02+00</td><td>RNLIORU</td><td>2020/06/12 15:41:02+00</td><td>RNLIORU</td></tr>\n",
       "    <tr><td class='row_index'>6</td><td>&minus;0.1219</td><td>51.495</td><td>7</td><td>Other marine vessels - Ill crewman</td><td>TOWER</td><td>00:07:00</td><td>2016</td><td>E CLASS MK2</td><td>E-07</td><td>ILB</td><td class=vellipsis>&hellip;</td><td>{8EF306C0-39E8-40FD-87BF-3546AE8D4E5A}</td><td>2020/06/12 15:41:02+00</td><td>RNLIORU</td><td>2020/06/12 15:41:02+00</td><td>RNLIORU</td></tr>\n",
       "    <tr><td class='row_index'>7</td><td>&minus;0.1216</td><td>51.5071</td><td>8</td><td>Other marine vessels - Ill crewman</td><td>TOWER</td><td>00:07:00</td><td>2016</td><td>E CLASS MK2</td><td>E-07</td><td>ILB</td><td class=vellipsis>&hellip;</td><td>{21896301-6CC7-4D3B-BF3C-3DAE9FC6AF4E}</td><td>2020/06/12 15:41:02+00</td><td>RNLIORU</td><td>2020/06/12 15:41:02+00</td><td>RNLIORU</td></tr>\n",
       "    <tr><td class='row_index'>8</td><td>&minus;0.1234</td><td>51.5021</td><td>9</td><td>Other marine vessels - Ill crewman</td><td>TOWER</td><td>00:07:00</td><td>2016</td><td>E CLASS MK2</td><td>E-07</td><td>ILB</td><td class=vellipsis>&hellip;</td><td>{00593C88-8321-4611-90AC-E0C537772050}</td><td>2020/06/12 15:41:02+00</td><td>RNLIORU</td><td>2020/06/12 15:41:02+00</td><td>RNLIORU</td></tr>\n",
       "    <tr><td class='row_index'>9</td><td>&minus;0.0878</td><td>51.5096</td><td>10</td><td>Not yet coded</td><td>TOWER</td><td>00:07:00</td><td>2016</td><td>E CLASS MK2</td><td>E-07</td><td>ILB</td><td class=vellipsis>&hellip;</td><td>{5907A82F-F402-41A4-B712-197989C07CA9}</td><td>2020/06/12 15:41:02+00</td><td>RNLIORU</td><td>2020/06/12 15:41:02+00</td><td>RNLIORU</td></tr>\n",
       "    <tr><td class='row_index'>10</td><td>&minus;0.2766</td><td>51.4745</td><td>11</td><td>Hoax and false alarm</td><td>TEDDINGTON</td><td>23:27:00</td><td>2016</td><td>D CLASS</td><td>D-785</td><td>ILB</td><td class=vellipsis>&hellip;</td><td>{6E7C5D69-C95F-47D2-A1AA-C237E70BDD51}</td><td>2020/06/12 15:41:02+00</td><td>RNLIORU</td><td>2020/06/12 15:41:02+00</td><td>RNLIORU</td></tr>\n",
       "    <tr><td class='row_index'>11</td><td>&minus;3.0349</td><td>53.2195</td><td>12</td><td>Hoax and false alarm</td><td>FLINT</td><td>23:50:00</td><td>2016</td><td>D CLASS</td><td>D-658</td><td>ILB</td><td class=vellipsis>&hellip;</td><td>{C74FDF0C-8C81-41D2-8458-6A4AFE9CCF48}</td><td>2020/06/12 15:41:02+00</td><td>RNLIORU</td><td>2020/06/12 15:41:02+00</td><td>RNLIORU</td></tr>\n",
       "    <tr><td class='row_index'>12</td><td>&minus;4.7814</td><td>50.2615</td><td>13</td><td>Walker - In water</td><td>FOWEY</td><td>11:05:00</td><td>2016</td><td>TRENT</td><td>ON1222</td><td>ALB</td><td class=vellipsis>&hellip;</td><td>{D93013B2-BB9F-47F5-B8FC-E2A9511666F1}</td><td>2020/06/12 15:41:02+00</td><td>RNLIORU</td><td>2020/06/12 15:41:02+00</td><td>RNLIORU</td></tr>\n",
       "    <tr><td class='row_index'>13</td><td>&minus;4.3034</td><td>51.5857</td><td>14</td><td>Small craft - Surfing</td><td>BURRY PORT</td><td>10:39:00</td><td>2016</td><td>ATLANTIC 75</td><td>B-777</td><td>ILB</td><td class=vellipsis>&hellip;</td><td>{F8CD155B-BED0-4056-8322-2EE0DCA4036C}</td><td>2020/06/12 15:41:02+00</td><td>RNLIORU</td><td>2020/06/12 15:41:02+00</td><td>RNLIORU</td></tr>\n",
       "    <tr><td class='row_index'>14</td><td>&minus;4.3034</td><td>51.5857</td><td>15</td><td>Small craft - Surfing</td><td>BURRY PORT</td><td>10:35:00</td><td>2016</td><td>D CLASS</td><td>D-749</td><td>ILB</td><td class=vellipsis>&hellip;</td><td>{E09D32E4-C696-46F7-8EAF-DA581583E7EE}</td><td>2020/06/12 15:41:02+00</td><td>RNLIORU</td><td>2020/06/12 15:41:02+00</td><td>RNLIORU</td></tr>\n",
       "    <tr><td class='row_index'>&#x22EE;</td><td class='hellipsis'>&#x22EE;</td><td class='hellipsis'>&#x22EE;</td><td class='hellipsis'>&#x22EE;</td><td class='hellipsis'>&#x22EE;</td><td class='hellipsis'>&#x22EE;</td><td class='hellipsis'>&#x22EE;</td><td class='hellipsis'>&#x22EE;</td><td class='hellipsis'>&#x22EE;</td><td class='hellipsis'>&#x22EE;</td><td class='hellipsis'>&#x22EE;</td><td class='hellipsis'>&#x22F1;</td><td class='hellipsis'>&#x22EE;</td><td class='hellipsis'>&#x22EE;</td><td class='hellipsis'>&#x22EE;</td><td class='hellipsis'>&#x22EE;</td><td class='hellipsis'>&#x22EE;</td></tr>\n",
       "    <tr><td class='row_index'>112,242</td><td>&minus;3.05999</td><td>53.7966</td><td>112587</td><td>Other</td><td>BLACKPOOL</td><td>01:56:00</td><td>2020</td><td>D-CLASS</td><td>D-732</td><td>ILB</td><td class=vellipsis>&hellip;</td><td>{3DF5CFF7-1636-46B9-9C1E-2E55D7B9CEB9}</td><td>2021/03/31 11:10:03+00</td><td></td><td>2021/03/31 11:10:03+00</td><td></td></tr>\n",
       "    <tr><td class='row_index'>112,243</td><td>&minus;7.4694</td><td>55.1287</td><td>112588</td><td>Person in distress</td><td>LOUGH SWILLY</td><td>13:29:00</td><td>2020</td><td>ATLANTIC 85</td><td>B-819</td><td>ILB</td><td class=vellipsis>&hellip;</td><td>{04E1DB04-0DB4-402B-8747-5AB8B741E4C6}</td><td>2021/03/31 11:10:04+00</td><td></td><td>2021/03/31 11:10:04+00</td><td></td></tr>\n",
       "    <tr><td class='row_index'>112,244</td><td>&minus;7.46689</td><td>55.125</td><td>112589</td><td>Motorboat</td><td>LOUGH SWILLY</td><td>16:49:00</td><td>2020</td><td>ATLANTIC 85</td><td>B-819</td><td>ILB</td><td class=vellipsis>&hellip;</td><td>{F8809136-87EF-4F7B-A0E0-83FAE2892102}</td><td>2021/03/31 11:10:04+00</td><td></td><td>2021/03/31 11:10:04+00</td><td></td></tr>\n",
       "    <tr><td class='row_index'>112,245</td><td>&minus;7.65067</td><td>55.3403</td><td>112590</td><td>Motorboat</td><td>LOUGH SWILLY</td><td>11:10:00</td><td>2020</td><td>SHANNON</td><td>ON1315</td><td>ALB</td><td class=vellipsis>&hellip;</td><td>{3AF040A4-B3A2-4B49-93D5-386F1AEA06FD}</td><td>2021/03/31 11:10:04+00</td><td></td><td>2021/03/31 11:10:04+00</td><td></td></tr>\n",
       "    <tr><td class='row_index'>112,246</td><td>&minus;7.48063</td><td>55.1136</td><td>112591</td><td>False alarm</td><td>LOUGH SWILLY</td><td>13:19:00</td><td>2020</td><td>ATLANTIC 85</td><td>B-819</td><td>ILB</td><td class=vellipsis>&hellip;</td><td>{A6C21F7C-6079-46FE-BFC3-2FC3F782F57E}</td><td>2021/03/31 11:10:04+00</td><td></td><td>2021/03/31 11:10:04+00</td><td></td></tr>\n",
       "  </tbody>\n",
       "  </table>\n",
       "  <div class='footer'>\n",
       "    <div class='frame_dimensions'>112,247 rows &times; 29 columns</div>\n",
       "  </div>\n",
       "</div>\n"
      ],
      "text/plain": [
       "<Frame#1cfc679c7e0 112247x29>"
      ]
     },
     "execution_count": 139,
     "metadata": {},
     "output_type": "execute_result"
    }
   ],
   "source": [
    "dataT"
   ]
  },
  {
   "cell_type": "code",
   "execution_count": 151,
   "metadata": {},
   "outputs": [],
   "source": [
    "df=dataT.to_pandas()"
   ]
  },
  {
   "cell_type": "code",
   "execution_count": 152,
   "metadata": {},
   "outputs": [
    {
     "data": {
      "text/plain": [
       "Index(['X', 'Y', 'OBJECTID', 'AIC', 'LifeboatStationNameProper', 'LaunchTime',\n",
       "       'YearOfCall', 'LifeboatClass', 'LifeboatNumber', 'RoSType',\n",
       "       'CasualtyCategory', 'CasualtyTypeFull', 'ReasonForLaunch',\n",
       "       'OutcomeOfService', 'Activity', 'VisibilityAtIncident',\n",
       "       'WeatherAtIncident', 'SeaConditionsAtIncident', 'WeatherAtLaunch',\n",
       "       'VisibilityAtLaunch', 'WindDirectionAtLaunch', 'SeaConditionsAtLaunch',\n",
       "       'DateOfLaunch', 'ROSNumber', 'GlobalID', 'CreationDate', 'Creator',\n",
       "       'EditDate', 'Editor'],\n",
       "      dtype='object')"
      ]
     },
     "execution_count": 152,
     "metadata": {},
     "output_type": "execute_result"
    }
   ],
   "source": [
    "df.columns"
   ]
  },
  {
   "cell_type": "code",
   "execution_count": 153,
   "metadata": {},
   "outputs": [],
   "source": [
    "df2 = df[['AIC','LifeboatStationNameProper','DateOfLaunch','SeaConditionsAtLaunch','ReasonForLaunch']]"
   ]
  },
  {
   "cell_type": "code",
   "execution_count": 154,
   "metadata": {},
   "outputs": [
    {
     "data": {
      "text/html": [
       "<div>\n",
       "<style scoped>\n",
       "    .dataframe tbody tr th:only-of-type {\n",
       "        vertical-align: middle;\n",
       "    }\n",
       "\n",
       "    .dataframe tbody tr th {\n",
       "        vertical-align: top;\n",
       "    }\n",
       "\n",
       "    .dataframe thead th {\n",
       "        text-align: right;\n",
       "    }\n",
       "</style>\n",
       "<table border=\"1\" class=\"dataframe\">\n",
       "  <thead>\n",
       "    <tr style=\"text-align: right;\">\n",
       "      <th></th>\n",
       "      <th>AIC</th>\n",
       "      <th>LifeboatStationNameProper</th>\n",
       "      <th>DateOfLaunch</th>\n",
       "      <th>SeaConditionsAtLaunch</th>\n",
       "      <th>ReasonForLaunch</th>\n",
       "    </tr>\n",
       "  </thead>\n",
       "  <tbody>\n",
       "    <tr>\n",
       "      <th>0</th>\n",
       "      <td>Motorboating - Other reason</td>\n",
       "      <td>BEMBRIDGE</td>\n",
       "      <td>2016/01/01 00:00:00+00</td>\n",
       "      <td>SMOOTH</td>\n",
       "      <td>Stranding or grounding</td>\n",
       "    </tr>\n",
       "    <tr>\n",
       "      <th>1</th>\n",
       "      <td>Hoax and false alarm</td>\n",
       "      <td>ILFRACOMBE</td>\n",
       "      <td>2016/01/01 00:00:00+00</td>\n",
       "      <td>SLIGHT</td>\n",
       "      <td>Marine Debris or Object</td>\n",
       "    </tr>\n",
       "    <tr>\n",
       "      <th>2</th>\n",
       "      <td>Commercial fishing - Other reasons</td>\n",
       "      <td>DUNGENESS</td>\n",
       "      <td>2016/01/01 00:00:00+00</td>\n",
       "      <td>ROUGH</td>\n",
       "      <td>Machinery failure</td>\n",
       "    </tr>\n",
       "    <tr>\n",
       "      <th>3</th>\n",
       "      <td>Hoax and false alarm</td>\n",
       "      <td>ILFRACOMBE</td>\n",
       "      <td>2016/01/01 00:00:00+00</td>\n",
       "      <td>SLIGHT</td>\n",
       "      <td>Marine Debris or Object</td>\n",
       "    </tr>\n",
       "    <tr>\n",
       "      <th>4</th>\n",
       "      <td>Waterside activity - On shore</td>\n",
       "      <td>TOWER</td>\n",
       "      <td>2016/01/01 00:00:00+00</td>\n",
       "      <td>SLIGHT</td>\n",
       "      <td>Person in distress</td>\n",
       "    </tr>\n",
       "    <tr>\n",
       "      <th>...</th>\n",
       "      <td>...</td>\n",
       "      <td>...</td>\n",
       "      <td>...</td>\n",
       "      <td>...</td>\n",
       "      <td>...</td>\n",
       "    </tr>\n",
       "    <tr>\n",
       "      <th>112242</th>\n",
       "      <td>Other</td>\n",
       "      <td>BLACKPOOL</td>\n",
       "      <td>2020/12/28 02:15:00+00</td>\n",
       "      <td>SLIGHT</td>\n",
       "      <td>Unknown</td>\n",
       "    </tr>\n",
       "    <tr>\n",
       "      <th>112243</th>\n",
       "      <td>Person in distress</td>\n",
       "      <td>LOUGH SWILLY</td>\n",
       "      <td>2020/09/06 13:50:00+00</td>\n",
       "      <td>MOD/CHOP</td>\n",
       "      <td>Unknown</td>\n",
       "    </tr>\n",
       "    <tr>\n",
       "      <th>112244</th>\n",
       "      <td>Motorboat</td>\n",
       "      <td>LOUGH SWILLY</td>\n",
       "      <td>2020/09/06 16:49:00+00</td>\n",
       "      <td>MOD/CHOP</td>\n",
       "      <td>Machinery Failure</td>\n",
       "    </tr>\n",
       "    <tr>\n",
       "      <th>112245</th>\n",
       "      <td>Motorboat</td>\n",
       "      <td>LOUGH SWILLY</td>\n",
       "      <td>2020/09/15 11:19:59+00</td>\n",
       "      <td>MOD/CHOP</td>\n",
       "      <td>Machinery Failure</td>\n",
       "    </tr>\n",
       "    <tr>\n",
       "      <th>112246</th>\n",
       "      <td>False alarm</td>\n",
       "      <td>LOUGH SWILLY</td>\n",
       "      <td>2020/12/01 13:27:00+00</td>\n",
       "      <td>CALM</td>\n",
       "      <td>Unknown</td>\n",
       "    </tr>\n",
       "  </tbody>\n",
       "</table>\n",
       "<p>112247 rows × 5 columns</p>\n",
       "</div>"
      ],
      "text/plain": [
       "                                       AIC LifeboatStationNameProper  \\\n",
       "0              Motorboating - Other reason                 BEMBRIDGE   \n",
       "1                     Hoax and false alarm                ILFRACOMBE   \n",
       "2       Commercial fishing - Other reasons                 DUNGENESS   \n",
       "3                     Hoax and false alarm                ILFRACOMBE   \n",
       "4            Waterside activity - On shore                     TOWER   \n",
       "...                                    ...                       ...   \n",
       "112242                               Other                 BLACKPOOL   \n",
       "112243                  Person in distress              LOUGH SWILLY   \n",
       "112244                           Motorboat              LOUGH SWILLY   \n",
       "112245                           Motorboat              LOUGH SWILLY   \n",
       "112246                         False alarm              LOUGH SWILLY   \n",
       "\n",
       "                  DateOfLaunch SeaConditionsAtLaunch          ReasonForLaunch  \n",
       "0       2016/01/01 00:00:00+00                SMOOTH   Stranding or grounding  \n",
       "1       2016/01/01 00:00:00+00                SLIGHT  Marine Debris or Object  \n",
       "2       2016/01/01 00:00:00+00                 ROUGH        Machinery failure  \n",
       "3       2016/01/01 00:00:00+00                SLIGHT  Marine Debris or Object  \n",
       "4       2016/01/01 00:00:00+00                SLIGHT       Person in distress  \n",
       "...                        ...                   ...                      ...  \n",
       "112242  2020/12/28 02:15:00+00                SLIGHT                  Unknown  \n",
       "112243  2020/09/06 13:50:00+00              MOD/CHOP                  Unknown  \n",
       "112244  2020/09/06 16:49:00+00              MOD/CHOP        Machinery Failure  \n",
       "112245  2020/09/15 11:19:59+00              MOD/CHOP        Machinery Failure  \n",
       "112246  2020/12/01 13:27:00+00                  CALM                  Unknown  \n",
       "\n",
       "[112247 rows x 5 columns]"
      ]
     },
     "execution_count": 154,
     "metadata": {},
     "output_type": "execute_result"
    }
   ],
   "source": [
    "df2"
   ]
  },
  {
   "cell_type": "code",
   "execution_count": 155,
   "metadata": {},
   "outputs": [
    {
     "data": {
      "text/plain": [
       "AIC                          0\n",
       "LifeboatStationNameProper    0\n",
       "DateOfLaunch                 0\n",
       "SeaConditionsAtLaunch        0\n",
       "ReasonForLaunch              0\n",
       "dtype: int64"
      ]
     },
     "execution_count": 155,
     "metadata": {},
     "output_type": "execute_result"
    }
   ],
   "source": [
    "df2.isna().sum(axis=0)"
   ]
  },
  {
   "cell_type": "code",
   "execution_count": 156,
   "metadata": {},
   "outputs": [
    {
     "name": "stderr",
     "output_type": "stream",
     "text": [
      "<ipython-input-156-d314a1b604f3>:1: SettingWithCopyWarning: \n",
      "A value is trying to be set on a copy of a slice from a DataFrame.\n",
      "Try using .loc[row_indexer,col_indexer] = value instead\n",
      "\n",
      "See the caveats in the documentation: https://pandas.pydata.org/pandas-docs/stable/user_guide/indexing.html#returning-a-view-versus-a-copy\n",
      "  df2['Launch_Date']=df2.DateOfLaunch.astype(\"datetime64\").dt.strftime('%d/%m/%Y')\n"
     ]
    }
   ],
   "source": [
    "df2['Launch_Date']=df2.DateOfLaunch.astype(\"datetime64\").dt.strftime('%d/%m/%Y')"
   ]
  },
  {
   "cell_type": "code",
   "execution_count": 157,
   "metadata": {},
   "outputs": [
    {
     "name": "stderr",
     "output_type": "stream",
     "text": [
      "<ipython-input-157-99cdaae1a42e>:1: SettingWithCopyWarning: \n",
      "A value is trying to be set on a copy of a slice from a DataFrame.\n",
      "Try using .loc[row_indexer,col_indexer] = value instead\n",
      "\n",
      "See the caveats in the documentation: https://pandas.pydata.org/pandas-docs/stable/user_guide/indexing.html#returning-a-view-versus-a-copy\n",
      "  df2['Launch_Month']=df2.DateOfLaunch.astype(\"datetime64\").dt.strftime('%m/%Y')\n"
     ]
    }
   ],
   "source": [
    "df2['Launch_Month']=df2.DateOfLaunch.astype(\"datetime64\").dt.strftime('%m/%Y')"
   ]
  },
  {
   "cell_type": "code",
   "execution_count": 158,
   "metadata": {},
   "outputs": [
    {
     "name": "stderr",
     "output_type": "stream",
     "text": [
      "<ipython-input-158-f07dde718f32>:1: SettingWithCopyWarning: \n",
      "A value is trying to be set on a copy of a slice from a DataFrame\n",
      "\n",
      "See the caveats in the documentation: https://pandas.pydata.org/pandas-docs/stable/user_guide/indexing.html#returning-a-view-versus-a-copy\n",
      "  df2.sort_values(by=\"Launch_Date\",inplace=True)\n"
     ]
    }
   ],
   "source": [
    "df2.sort_values(by=\"Launch_Date\",inplace=True)"
   ]
  },
  {
   "cell_type": "code",
   "execution_count": 159,
   "metadata": {},
   "outputs": [],
   "source": [
    "df2= df2.reset_index(drop=True)"
   ]
  },
  {
   "cell_type": "code",
   "execution_count": 160,
   "metadata": {},
   "outputs": [
    {
     "data": {
      "text/html": [
       "<div>\n",
       "<style scoped>\n",
       "    .dataframe tbody tr th:only-of-type {\n",
       "        vertical-align: middle;\n",
       "    }\n",
       "\n",
       "    .dataframe tbody tr th {\n",
       "        vertical-align: top;\n",
       "    }\n",
       "\n",
       "    .dataframe thead th {\n",
       "        text-align: right;\n",
       "    }\n",
       "</style>\n",
       "<table border=\"1\" class=\"dataframe\">\n",
       "  <thead>\n",
       "    <tr style=\"text-align: right;\">\n",
       "      <th></th>\n",
       "      <th>AIC</th>\n",
       "      <th>LifeboatStationNameProper</th>\n",
       "      <th>SeaConditionsAtLaunch</th>\n",
       "      <th>ReasonForLaunch</th>\n",
       "      <th>Launch_Date</th>\n",
       "      <th>Launch_Month</th>\n",
       "    </tr>\n",
       "  </thead>\n",
       "  <tbody>\n",
       "    <tr>\n",
       "      <th>0</th>\n",
       "      <td>Motorboating - Fire, explosion, capsize or col...</td>\n",
       "      <td>DOVER</td>\n",
       "      <td>CALM</td>\n",
       "      <td>Capsize</td>\n",
       "      <td>01/01/2008</td>\n",
       "      <td>01/2008</td>\n",
       "    </tr>\n",
       "    <tr>\n",
       "      <th>1</th>\n",
       "      <td>Angling from shore - Fall from cliff</td>\n",
       "      <td>ARBROATH</td>\n",
       "      <td>SLIGHT</td>\n",
       "      <td>Injured</td>\n",
       "      <td>01/01/2008</td>\n",
       "      <td>01/2008</td>\n",
       "    </tr>\n",
       "    <tr>\n",
       "      <th>2</th>\n",
       "      <td>Angling from shore - Fall from cliff</td>\n",
       "      <td>ARBROATH</td>\n",
       "      <td>SLIGHT</td>\n",
       "      <td>Injured</td>\n",
       "      <td>01/01/2008</td>\n",
       "      <td>01/2008</td>\n",
       "    </tr>\n",
       "    <tr>\n",
       "      <th>3</th>\n",
       "      <td>Person in distress</td>\n",
       "      <td>PENLEE</td>\n",
       "      <td>CALM</td>\n",
       "      <td>In danger of drowning</td>\n",
       "      <td>01/01/2008</td>\n",
       "      <td>01/2008</td>\n",
       "    </tr>\n",
       "    <tr>\n",
       "      <th>4</th>\n",
       "      <td>Other marine vessels - Ill crewman</td>\n",
       "      <td>TOWER</td>\n",
       "      <td>CALM</td>\n",
       "      <td>Ill crewman on vessel</td>\n",
       "      <td>01/01/2008</td>\n",
       "      <td>01/2008</td>\n",
       "    </tr>\n",
       "  </tbody>\n",
       "</table>\n",
       "</div>"
      ],
      "text/plain": [
       "                                                 AIC  \\\n",
       "0  Motorboating - Fire, explosion, capsize or col...   \n",
       "1               Angling from shore - Fall from cliff   \n",
       "2               Angling from shore - Fall from cliff   \n",
       "3                                 Person in distress   \n",
       "4                 Other marine vessels - Ill crewman   \n",
       "\n",
       "  LifeboatStationNameProper SeaConditionsAtLaunch        ReasonForLaunch  \\\n",
       "0                     DOVER                  CALM                Capsize   \n",
       "1                  ARBROATH                SLIGHT                Injured   \n",
       "2                  ARBROATH                SLIGHT                Injured   \n",
       "3                    PENLEE                  CALM  In danger of drowning   \n",
       "4                     TOWER                  CALM  Ill crewman on vessel   \n",
       "\n",
       "  Launch_Date Launch_Month  \n",
       "0  01/01/2008      01/2008  \n",
       "1  01/01/2008      01/2008  \n",
       "2  01/01/2008      01/2008  \n",
       "3  01/01/2008      01/2008  \n",
       "4  01/01/2008      01/2008  "
      ]
     },
     "execution_count": 160,
     "metadata": {},
     "output_type": "execute_result"
    }
   ],
   "source": [
    "df2 = df2[['AIC','LifeboatStationNameProper','SeaConditionsAtLaunch','ReasonForLaunch','Launch_Date','Launch_Month']]\n",
    "df2.head()\n"
   ]
  },
  {
   "cell_type": "code",
   "execution_count": 167,
   "metadata": {},
   "outputs": [],
   "source": [
    "monthMAY2020 = df2.loc[df2['Launch_Month']==\"05/2020\"]\n",
    "monthDec2019 = df2.loc[df2['Launch_Month']==\"12/2019\"]"
   ]
  },
  {
   "cell_type": "code",
   "execution_count": 169,
   "metadata": {},
   "outputs": [],
   "source": [
    "conditionsDec2019 = monthDec2019[\"SeaConditionsAtLaunch\"].value_counts()\n",
    "conditionsDec2019.to_csv(\"D:\\conditionsDec2019.csv\")"
   ]
  },
  {
   "cell_type": "code",
   "execution_count": 170,
   "metadata": {},
   "outputs": [],
   "source": [
    "conditionsMay2020=monthMAY2020[\"SeaConditionsAtLaunch\"].value_counts()\n",
    "conditionsMay2020.to_csv(\"D:\\conditionsMay2020.csv\")"
   ]
  },
  {
   "cell_type": "code",
   "execution_count": 135,
   "metadata": {},
   "outputs": [
    {
     "data": {
      "text/plain": [
       "SLIGHT        31970\n",
       "SMOOTH        30523\n",
       "CALM          27475\n",
       "CHOPPY        10025\n",
       "MOD/CHOP       4731\n",
       "GLASS CALM     3899\n",
       "ROUGH          3292\n",
       "VERY ROUGH      210\n",
       "HIGH             71\n",
       "                 43\n",
       "VERY HIGH         5\n",
       "PHENOMENAL        3\n",
       "Name: SeaConditionsAtLaunch, dtype: int64"
      ]
     },
     "execution_count": 135,
     "metadata": {},
     "output_type": "execute_result"
    }
   ],
   "source": [
    "df2[\"SeaConditionsAtLaunch\"].value_counts()"
   ]
  },
  {
   "cell_type": "code",
   "execution_count": 124,
   "metadata": {},
   "outputs": [],
   "source": [
    "value = []\n",
    "for i in range(len(df2)):\n",
    "    value.append(1)"
   ]
  },
  {
   "cell_type": "code",
   "execution_count": 125,
   "metadata": {},
   "outputs": [
    {
     "data": {
      "text/html": [
       "<div>\n",
       "<style scoped>\n",
       "    .dataframe tbody tr th:only-of-type {\n",
       "        vertical-align: middle;\n",
       "    }\n",
       "\n",
       "    .dataframe tbody tr th {\n",
       "        vertical-align: top;\n",
       "    }\n",
       "\n",
       "    .dataframe thead th {\n",
       "        text-align: right;\n",
       "    }\n",
       "</style>\n",
       "<table border=\"1\" class=\"dataframe\">\n",
       "  <thead>\n",
       "    <tr style=\"text-align: right;\">\n",
       "      <th></th>\n",
       "      <th>AIC</th>\n",
       "      <th>LifeboatStationNameProper</th>\n",
       "      <th>SeaConditionsAtLaunch</th>\n",
       "      <th>ReasonForLaunch</th>\n",
       "      <th>Launch_Date</th>\n",
       "      <th>value</th>\n",
       "    </tr>\n",
       "  </thead>\n",
       "  <tbody>\n",
       "    <tr>\n",
       "      <th>0</th>\n",
       "      <td>Motorboating - Fire, explosion, capsize or col...</td>\n",
       "      <td>DOVER</td>\n",
       "      <td>CALM</td>\n",
       "      <td>Capsize</td>\n",
       "      <td>01/01/2008</td>\n",
       "      <td>1</td>\n",
       "    </tr>\n",
       "    <tr>\n",
       "      <th>1</th>\n",
       "      <td>Angling from shore - Fall from cliff</td>\n",
       "      <td>ARBROATH</td>\n",
       "      <td>SLIGHT</td>\n",
       "      <td>Injured</td>\n",
       "      <td>01/01/2008</td>\n",
       "      <td>1</td>\n",
       "    </tr>\n",
       "    <tr>\n",
       "      <th>2</th>\n",
       "      <td>Angling from shore - Fall from cliff</td>\n",
       "      <td>ARBROATH</td>\n",
       "      <td>SLIGHT</td>\n",
       "      <td>Injured</td>\n",
       "      <td>01/01/2008</td>\n",
       "      <td>1</td>\n",
       "    </tr>\n",
       "    <tr>\n",
       "      <th>3</th>\n",
       "      <td>Person in distress</td>\n",
       "      <td>PENLEE</td>\n",
       "      <td>CALM</td>\n",
       "      <td>In danger of drowning</td>\n",
       "      <td>01/01/2008</td>\n",
       "      <td>1</td>\n",
       "    </tr>\n",
       "    <tr>\n",
       "      <th>4</th>\n",
       "      <td>Other marine vessels - Ill crewman</td>\n",
       "      <td>TOWER</td>\n",
       "      <td>CALM</td>\n",
       "      <td>Ill crewman on vessel</td>\n",
       "      <td>01/01/2008</td>\n",
       "      <td>1</td>\n",
       "    </tr>\n",
       "  </tbody>\n",
       "</table>\n",
       "</div>"
      ],
      "text/plain": [
       "                                                 AIC  \\\n",
       "0  Motorboating - Fire, explosion, capsize or col...   \n",
       "1               Angling from shore - Fall from cliff   \n",
       "2               Angling from shore - Fall from cliff   \n",
       "3                                 Person in distress   \n",
       "4                 Other marine vessels - Ill crewman   \n",
       "\n",
       "  LifeboatStationNameProper SeaConditionsAtLaunch        ReasonForLaunch  \\\n",
       "0                     DOVER                  CALM                Capsize   \n",
       "1                  ARBROATH                SLIGHT                Injured   \n",
       "2                  ARBROATH                SLIGHT                Injured   \n",
       "3                    PENLEE                  CALM  In danger of drowning   \n",
       "4                     TOWER                  CALM  Ill crewman on vessel   \n",
       "\n",
       "  Launch_Date  value  \n",
       "0  01/01/2008      1  \n",
       "1  01/01/2008      1  \n",
       "2  01/01/2008      1  \n",
       "3  01/01/2008      1  \n",
       "4  01/01/2008      1  "
      ]
     },
     "execution_count": 125,
     "metadata": {},
     "output_type": "execute_result"
    }
   ],
   "source": [
    "df2['value'] = value\n",
    "df2.head()"
   ]
  },
  {
   "cell_type": "code",
   "execution_count": 128,
   "metadata": {},
   "outputs": [
    {
     "data": {
      "text/plain": [
       "AIC                          object\n",
       "LifeboatStationNameProper    object\n",
       "SeaConditionsAtLaunch        object\n",
       "ReasonForLaunch              object\n",
       "Launch_Date                  object\n",
       "value                         int64\n",
       "dtype: object"
      ]
     },
     "execution_count": 128,
     "metadata": {},
     "output_type": "execute_result"
    }
   ],
   "source": [
    "df2.dtypes"
   ]
  },
  {
   "cell_type": "code",
   "execution_count": 129,
   "metadata": {},
   "outputs": [
    {
     "name": "stdout",
     "output_type": "stream",
     "text": [
      "AIC                                  object\n",
      "LifeboatStationNameProper            object\n",
      "SeaConditionsAtLaunch                object\n",
      "ReasonForLaunch                      object\n",
      "Launch_Date                  datetime64[ns]\n",
      "value                                 int64\n",
      "dtype: object\n"
     ]
    }
   ],
   "source": [
    "df2[\"Launch_Date\"] = pd.to_datetime(df2[\"Launch_Date\"])\n",
    "print(df2.dtypes)"
   ]
  },
  {
   "cell_type": "code",
   "execution_count": 55,
   "metadata": {},
   "outputs": [],
   "source": [
    "import numpy as np"
   ]
  },
  {
   "cell_type": "code",
   "execution_count": 86,
   "metadata": {},
   "outputs": [],
   "source": [
    "df3 = df2.groupby(by=['Launch_Date']).agg({'value':np.sum})"
   ]
  },
  {
   "cell_type": "code",
   "execution_count": 87,
   "metadata": {},
   "outputs": [
    {
     "data": {
      "text/html": [
       "<div>\n",
       "<style scoped>\n",
       "    .dataframe tbody tr th:only-of-type {\n",
       "        vertical-align: middle;\n",
       "    }\n",
       "\n",
       "    .dataframe tbody tr th {\n",
       "        vertical-align: top;\n",
       "    }\n",
       "\n",
       "    .dataframe thead th {\n",
       "        text-align: right;\n",
       "    }\n",
       "</style>\n",
       "<table border=\"1\" class=\"dataframe\">\n",
       "  <thead>\n",
       "    <tr style=\"text-align: right;\">\n",
       "      <th></th>\n",
       "      <th>value</th>\n",
       "    </tr>\n",
       "    <tr>\n",
       "      <th>Launch_Date</th>\n",
       "      <th></th>\n",
       "    </tr>\n",
       "  </thead>\n",
       "  <tbody>\n",
       "    <tr>\n",
       "      <th>2008-01-01</th>\n",
       "      <td>17</td>\n",
       "    </tr>\n",
       "    <tr>\n",
       "      <th>2008-01-02</th>\n",
       "      <td>7</td>\n",
       "    </tr>\n",
       "    <tr>\n",
       "      <th>2008-01-03</th>\n",
       "      <td>16</td>\n",
       "    </tr>\n",
       "    <tr>\n",
       "      <th>2008-01-04</th>\n",
       "      <td>18</td>\n",
       "    </tr>\n",
       "    <tr>\n",
       "      <th>2008-01-05</th>\n",
       "      <td>12</td>\n",
       "    </tr>\n",
       "    <tr>\n",
       "      <th>...</th>\n",
       "      <td>...</td>\n",
       "    </tr>\n",
       "    <tr>\n",
       "      <th>2020-12-27</th>\n",
       "      <td>9</td>\n",
       "    </tr>\n",
       "    <tr>\n",
       "      <th>2020-12-28</th>\n",
       "      <td>9</td>\n",
       "    </tr>\n",
       "    <tr>\n",
       "      <th>2020-12-29</th>\n",
       "      <td>17</td>\n",
       "    </tr>\n",
       "    <tr>\n",
       "      <th>2020-12-30</th>\n",
       "      <td>11</td>\n",
       "    </tr>\n",
       "    <tr>\n",
       "      <th>2020-12-31</th>\n",
       "      <td>12</td>\n",
       "    </tr>\n",
       "  </tbody>\n",
       "</table>\n",
       "<p>4745 rows × 1 columns</p>\n",
       "</div>"
      ],
      "text/plain": [
       "             value\n",
       "Launch_Date       \n",
       "2008-01-01      17\n",
       "2008-01-02       7\n",
       "2008-01-03      16\n",
       "2008-01-04      18\n",
       "2008-01-05      12\n",
       "...            ...\n",
       "2020-12-27       9\n",
       "2020-12-28       9\n",
       "2020-12-29      17\n",
       "2020-12-30      11\n",
       "2020-12-31      12\n",
       "\n",
       "[4745 rows x 1 columns]"
      ]
     },
     "execution_count": 87,
     "metadata": {},
     "output_type": "execute_result"
    }
   ],
   "source": [
    "df3.sort_values(by='Launch_Date')"
   ]
  },
  {
   "cell_type": "code",
   "execution_count": 88,
   "metadata": {},
   "outputs": [
    {
     "data": {
      "text/html": [
       "<div>\n",
       "<style scoped>\n",
       "    .dataframe tbody tr th:only-of-type {\n",
       "        vertical-align: middle;\n",
       "    }\n",
       "\n",
       "    .dataframe tbody tr th {\n",
       "        vertical-align: top;\n",
       "    }\n",
       "\n",
       "    .dataframe thead th {\n",
       "        text-align: right;\n",
       "    }\n",
       "</style>\n",
       "<table border=\"1\" class=\"dataframe\">\n",
       "  <thead>\n",
       "    <tr style=\"text-align: right;\">\n",
       "      <th></th>\n",
       "      <th>value</th>\n",
       "    </tr>\n",
       "    <tr>\n",
       "      <th>Launch_Date</th>\n",
       "      <th></th>\n",
       "    </tr>\n",
       "  </thead>\n",
       "  <tbody>\n",
       "    <tr>\n",
       "      <th>2008-01-01</th>\n",
       "      <td>17</td>\n",
       "    </tr>\n",
       "    <tr>\n",
       "      <th>2008-01-02</th>\n",
       "      <td>7</td>\n",
       "    </tr>\n",
       "    <tr>\n",
       "      <th>2008-01-03</th>\n",
       "      <td>16</td>\n",
       "    </tr>\n",
       "    <tr>\n",
       "      <th>2008-01-04</th>\n",
       "      <td>18</td>\n",
       "    </tr>\n",
       "    <tr>\n",
       "      <th>2008-01-05</th>\n",
       "      <td>12</td>\n",
       "    </tr>\n",
       "  </tbody>\n",
       "</table>\n",
       "</div>"
      ],
      "text/plain": [
       "             value\n",
       "Launch_Date       \n",
       "2008-01-01      17\n",
       "2008-01-02       7\n",
       "2008-01-03      16\n",
       "2008-01-04      18\n",
       "2008-01-05      12"
      ]
     },
     "execution_count": 88,
     "metadata": {},
     "output_type": "execute_result"
    }
   ],
   "source": [
    "df3.head()"
   ]
  },
  {
   "cell_type": "code",
   "execution_count": 89,
   "metadata": {},
   "outputs": [
    {
     "data": {
      "text/plain": [
       "value    int64\n",
       "dtype: object"
      ]
     },
     "execution_count": 89,
     "metadata": {},
     "output_type": "execute_result"
    }
   ],
   "source": [
    "df3.dtypes"
   ]
  },
  {
   "cell_type": "code",
   "execution_count": 92,
   "metadata": {},
   "outputs": [],
   "source": [
    "df3 = df3.resample('M', convention='end').sum()"
   ]
  },
  {
   "cell_type": "code",
   "execution_count": 97,
   "metadata": {},
   "outputs": [
    {
     "data": {
      "text/html": [
       "<div>\n",
       "<style scoped>\n",
       "    .dataframe tbody tr th:only-of-type {\n",
       "        vertical-align: middle;\n",
       "    }\n",
       "\n",
       "    .dataframe tbody tr th {\n",
       "        vertical-align: top;\n",
       "    }\n",
       "\n",
       "    .dataframe thead th {\n",
       "        text-align: right;\n",
       "    }\n",
       "</style>\n",
       "<table border=\"1\" class=\"dataframe\">\n",
       "  <thead>\n",
       "    <tr style=\"text-align: right;\">\n",
       "      <th></th>\n",
       "      <th>value</th>\n",
       "    </tr>\n",
       "    <tr>\n",
       "      <th>Launch_Date</th>\n",
       "      <th></th>\n",
       "    </tr>\n",
       "  </thead>\n",
       "  <tbody>\n",
       "    <tr>\n",
       "      <th>2008-01-31</th>\n",
       "      <td>453</td>\n",
       "    </tr>\n",
       "    <tr>\n",
       "      <th>2008-02-29</th>\n",
       "      <td>484</td>\n",
       "    </tr>\n",
       "    <tr>\n",
       "      <th>2008-03-31</th>\n",
       "      <td>487</td>\n",
       "    </tr>\n",
       "    <tr>\n",
       "      <th>2008-04-30</th>\n",
       "      <td>620</td>\n",
       "    </tr>\n",
       "    <tr>\n",
       "      <th>2008-05-31</th>\n",
       "      <td>825</td>\n",
       "    </tr>\n",
       "    <tr>\n",
       "      <th>...</th>\n",
       "      <td>...</td>\n",
       "    </tr>\n",
       "    <tr>\n",
       "      <th>2020-08-31</th>\n",
       "      <td>1163</td>\n",
       "    </tr>\n",
       "    <tr>\n",
       "      <th>2020-09-30</th>\n",
       "      <td>894</td>\n",
       "    </tr>\n",
       "    <tr>\n",
       "      <th>2020-10-31</th>\n",
       "      <td>570</td>\n",
       "    </tr>\n",
       "    <tr>\n",
       "      <th>2020-11-30</th>\n",
       "      <td>512</td>\n",
       "    </tr>\n",
       "    <tr>\n",
       "      <th>2020-12-31</th>\n",
       "      <td>474</td>\n",
       "    </tr>\n",
       "  </tbody>\n",
       "</table>\n",
       "<p>156 rows × 1 columns</p>\n",
       "</div>"
      ],
      "text/plain": [
       "             value\n",
       "Launch_Date       \n",
       "2008-01-31     453\n",
       "2008-02-29     484\n",
       "2008-03-31     487\n",
       "2008-04-30     620\n",
       "2008-05-31     825\n",
       "...            ...\n",
       "2020-08-31    1163\n",
       "2020-09-30     894\n",
       "2020-10-31     570\n",
       "2020-11-30     512\n",
       "2020-12-31     474\n",
       "\n",
       "[156 rows x 1 columns]"
      ]
     },
     "execution_count": 97,
     "metadata": {},
     "output_type": "execute_result"
    }
   ],
   "source": [
    "df3"
   ]
  },
  {
   "cell_type": "code",
   "execution_count": 98,
   "metadata": {},
   "outputs": [],
   "source": [
    "df3.to_csv(\"D:\\RNLI_Callouts.csv\")"
   ]
  }
 ],
 "metadata": {
  "kernelspec": {
   "display_name": "Python 3",
   "language": "python",
   "name": "python3"
  },
  "language_info": {
   "codemirror_mode": {
    "name": "ipython",
    "version": 3
   },
   "file_extension": ".py",
   "mimetype": "text/x-python",
   "name": "python",
   "nbconvert_exporter": "python",
   "pygments_lexer": "ipython3",
   "version": "3.8.5"
  }
 },
 "nbformat": 4,
 "nbformat_minor": 4
}
